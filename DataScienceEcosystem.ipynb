{
 "cells": [
  {
   "cell_type": "markdown",
   "id": "6f0620b4-b0f7-4b89-971a-0dca34bdc699",
   "metadata": {},
   "source": [
    "# Data Science Tools and Ecosystem"
   ]
  },
  {
   "cell_type": "markdown",
   "id": "1361431f-7c5b-465e-b77a-30cd8c4e8bfb",
   "metadata": {},
   "source": [
    "## In this notebook, Data Science Tools and Ecosystem are summarized"
   ]
  },
  {
   "cell_type": "markdown",
   "id": "1224b510-e842-49c3-88ef-e6a771cb53d4",
   "metadata": {},
   "source": [
    "**Objectives:**\r\n",
    "\r\n",
    "- Understand the basics of Markdown syntax in Jupyter Notebooks.\r\n",
    "- Learn how to create and format lists in Markdown.\r\n",
    "- Explore how to create tables in Markdown.\r\n",
    "- Write and run Python code to perform basic arithmetic operations.\r\n",
    "- Convert units (e.g., minutes to hours) using Python expressions.\r\n"
   ]
  },
  {
   "cell_type": "markdown",
   "id": "412adc5b-1703-4a5c-a2f2-ba9fd1b909b7",
   "metadata": {},
   "source": [
    "### Some of the popular languages that Data Scientist use are:\n",
    "1. Python\n",
    "2. R\n",
    "3. Javascript\n",
    "### Some of the commonly used libraries used by Data Scientists include:\n",
    "1. Pandas\n",
    "2. Numpy\n",
    "3. Matplotlib\n",
    "4. Scikit-Learn\n",
    "5. Tensorflow\n",
    "6. Pytorch"
   ]
  },
  {
   "cell_type": "markdown",
   "id": "8f9dcc42-35fa-42fc-9793-b4743a2c3304",
   "metadata": {},
   "source": [
    "| Data Science Tools |\r\n",
    "|--------------------|\r\n",
    "| Jupyter Notebook   |\r\n",
    "| RStudio            |\r\n",
    "| Apache Zeppelin    |\r\n"
   ]
  },
  {
   "cell_type": "markdown",
   "id": "9750237a-ae6c-4bc0-90de-9388ab007f41",
   "metadata": {},
   "source": [
    "### Below are a few examples of evaluating arithmetic expressions in Python"
   ]
  },
  {
   "cell_type": "markdown",
   "id": "fa928edb-5509-4ce5-9f0f-042d02cd7910",
   "metadata": {},
   "source": [
    "Here are some examples of arithmetic expressions you can evaluate in Python:\n",
    "\n",
    "```python\n",
    "# Addition\n",
    "result = 5 + 3\n",
    "print(result)  # Output: 8\n",
    "\n",
    "# Subtraction\n",
    "result = 10 - 4\n",
    "print(result)  # Output: 6\n",
    "\n",
    "# Multiplication\n",
    "result = 7 * 3\n",
    "print(result)  # Output: 21\n",
    "\n",
    "# Division\n",
    "result = 16 / 4\n",
    "print(result)  # Output: 4.0\n",
    "\n",
    "# Exponentiation\n",
    "result = 2 ** 3\n",
    "print(result)  # Output: 8"
   ]
  },
  {
   "cell_type": "code",
   "execution_count": 3,
   "id": "4b7ff4a3-8df6-4355-9ac3-c7a456bc6988",
   "metadata": {},
   "outputs": [
    {
     "data": {
      "text/plain": [
       "17"
      ]
     },
     "execution_count": 3,
     "metadata": {},
     "output_type": "execute_result"
    }
   ],
   "source": [
    "#This a simple arithmetic expression to mutiply then add integers\n",
    "(3*4)+5"
   ]
  },
  {
   "cell_type": "code",
   "execution_count": 4,
   "id": "470e4906-ad9b-400d-a186-4644ee9f574c",
   "metadata": {},
   "outputs": [
    {
     "data": {
      "text/plain": [
       "3.3333333333333335"
      ]
     },
     "execution_count": 4,
     "metadata": {},
     "output_type": "execute_result"
    }
   ],
   "source": [
    "#This will convert 200 minutes to hours by diving by 60\n",
    "minutes = 200\n",
    "hours = minutes / 60\n",
    "hours"
   ]
  },
  {
   "cell_type": "markdown",
   "id": "63754cc8-d655-4a03-9405-cf0d20c0d5d8",
   "metadata": {},
   "source": [
    "## Author\n",
    "Neil Berrospi"
   ]
  }
 ],
 "metadata": {
  "kernelspec": {
   "display_name": "Python 3 (ipykernel)",
   "language": "python",
   "name": "python3"
  },
  "language_info": {
   "codemirror_mode": {
    "name": "ipython",
    "version": 3
   },
   "file_extension": ".py",
   "mimetype": "text/x-python",
   "name": "python",
   "nbconvert_exporter": "python",
   "pygments_lexer": "ipython3",
   "version": "3.11.7"
  }
 },
 "nbformat": 4,
 "nbformat_minor": 5
}
